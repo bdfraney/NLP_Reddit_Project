{
 "cells": [
  {
   "cell_type": "markdown",
   "metadata": {},
   "source": [
    "#  Exploring the Correlation of the Words and Phrases\n",
    "---\n",
    "\n",
    "This notebook explores the different correlations, specifically looking for common topics and interesting trends.  Multigrams are looked at to give better context to each of the terms."
   ]
  },
  {
   "cell_type": "code",
   "execution_count": 12,
   "metadata": {
    "pycharm": {
     "is_executing": false
    }
   },
   "outputs": [],
   "source": [
    "import pandas as pd\n",
    "import numpy as np\n",
    "\n",
    "from sklearn.pipeline import make_pipeline\n",
    "from sklearn.linear_model import LogisticRegression\n",
    "from sklearn.model_selection import train_test_split\n",
    "from sklearn.feature_extraction.text import CountVectorizer, TfidfVectorizer\n",
    "\n",
    "import matplotlib.pyplot as plt\n",
    "import matplotlib.style as style\n",
    "import seaborn as sns\n",
    "style.use('fivethirtyeight')"
   ]
  },
  {
   "cell_type": "code",
   "execution_count": 4,
   "metadata": {},
   "outputs": [],
   "source": [
    "reddit_df= pd.read_csv('../data/reddit_df.csv')"
   ]
  },
  {
   "cell_type": "code",
   "execution_count": 5,
   "metadata": {},
   "outputs": [],
   "source": [
    "X = reddit_df['full_text_clean']\n",
    "y = reddit_df['subreddit']\n",
    "\n",
    "\n",
    "X_train, X_test, y_train, y_test = train_test_split(X, y, stratify=y, random_state=22)"
   ]
  },
  {
   "cell_type": "markdown",
   "metadata": {},
   "source": [
    "### Looking at bi-grams"
   ]
  },
  {
   "cell_type": "code",
   "execution_count": 7,
   "metadata": {},
   "outputs": [],
   "source": [
    "model_vec = make_pipeline(CountVectorizer(ngram_range=(2,2)), LogisticRegression())\n",
    "model_vec.fit(X_train, y_train);"
   ]
  },
  {
   "cell_type": "code",
   "execution_count": 8,
   "metadata": {},
   "outputs": [
    {
     "name": "stdout",
     "output_type": "stream",
     "text": [
      "0.998997995991984\n",
      "0.8867735470941884\n"
     ]
    }
   ],
   "source": [
    "print(model_vec.score(X_train, y_train))\n",
    "print(model_vec.score(X_test, y_test))"
   ]
  },
  {
   "cell_type": "code",
   "execution_count": 9,
   "metadata": {},
   "outputs": [],
   "source": [
    "coef1 = np.exp(model_vec.named_steps['logisticregression'].coef_)[0]\n",
    "\n",
    "features = model_vec.named_steps['countvectorizer'].get_feature_names()\n",
    "\n",
    "feat_dict = dict(zip(features, coef1))"
   ]
  },
  {
   "cell_type": "code",
   "execution_count": 10,
   "metadata": {},
   "outputs": [
    {
     "data": {
      "text/html": [
       "<div>\n",
       "<style scoped>\n",
       "    .dataframe tbody tr th:only-of-type {\n",
       "        vertical-align: middle;\n",
       "    }\n",
       "\n",
       "    .dataframe tbody tr th {\n",
       "        vertical-align: top;\n",
       "    }\n",
       "\n",
       "    .dataframe thead th {\n",
       "        text-align: right;\n",
       "    }\n",
       "</style>\n",
       "<table border=\"1\" class=\"dataframe\">\n",
       "  <thead>\n",
       "    <tr style=\"text-align: right;\">\n",
       "      <th></th>\n",
       "      <th>Coef</th>\n",
       "    </tr>\n",
       "  </thead>\n",
       "  <tbody>\n",
       "    <tr>\n",
       "      <th>american civil</th>\n",
       "      <td>1.901217</td>\n",
       "    </tr>\n",
       "    <tr>\n",
       "      <th>dark age</th>\n",
       "      <td>1.665394</td>\n",
       "    </tr>\n",
       "    <tr>\n",
       "      <th>militate great</th>\n",
       "      <td>1.590755</td>\n",
       "    </tr>\n",
       "    <tr>\n",
       "      <th>american revolution</th>\n",
       "      <td>1.565831</td>\n",
       "    </tr>\n",
       "    <tr>\n",
       "      <th>british rule</th>\n",
       "      <td>1.560213</td>\n",
       "    </tr>\n",
       "    <tr>\n",
       "      <th>south africa</th>\n",
       "      <td>1.546136</td>\n",
       "    </tr>\n",
       "    <tr>\n",
       "      <th>major difference</th>\n",
       "      <td>1.519608</td>\n",
       "    </tr>\n",
       "    <tr>\n",
       "      <th>come know</th>\n",
       "      <td>1.511781</td>\n",
       "    </tr>\n",
       "    <tr>\n",
       "      <th>start finish</th>\n",
       "      <td>1.489944</td>\n",
       "    </tr>\n",
       "    <tr>\n",
       "      <th>franz ferdinand</th>\n",
       "      <td>1.485305</td>\n",
       "    </tr>\n",
       "    <tr>\n",
       "      <th>king tut</th>\n",
       "      <td>1.480581</td>\n",
       "    </tr>\n",
       "    <tr>\n",
       "      <th>tourette syndrome</th>\n",
       "      <td>1.479664</td>\n",
       "    </tr>\n",
       "    <tr>\n",
       "      <th>old tourette</th>\n",
       "      <td>1.479664</td>\n",
       "    </tr>\n",
       "    <tr>\n",
       "      <th>ever actually</th>\n",
       "      <td>1.468692</td>\n",
       "    </tr>\n",
       "    <tr>\n",
       "      <th>ramesses ii</th>\n",
       "      <td>1.435273</td>\n",
       "    </tr>\n",
       "    <tr>\n",
       "      <th>medieval period</th>\n",
       "      <td>1.432634</td>\n",
       "    </tr>\n",
       "    <tr>\n",
       "      <th>know old</th>\n",
       "      <td>1.429150</td>\n",
       "    </tr>\n",
       "    <tr>\n",
       "      <th>historical record</th>\n",
       "      <td>1.427933</td>\n",
       "    </tr>\n",
       "    <tr>\n",
       "      <th>south america</th>\n",
       "      <td>1.427694</td>\n",
       "    </tr>\n",
       "    <tr>\n",
       "      <th>north african</th>\n",
       "      <td>1.418406</td>\n",
       "    </tr>\n",
       "  </tbody>\n",
       "</table>\n",
       "</div>"
      ],
      "text/plain": [
       "                         Coef\n",
       "american civil       1.901217\n",
       "dark age             1.665394\n",
       "militate great       1.590755\n",
       "american revolution  1.565831\n",
       "british rule         1.560213\n",
       "south africa         1.546136\n",
       "major difference     1.519608\n",
       "come know            1.511781\n",
       "start finish         1.489944\n",
       "franz ferdinand      1.485305\n",
       "king tut             1.480581\n",
       "tourette syndrome    1.479664\n",
       "old tourette         1.479664\n",
       "ever actually        1.468692\n",
       "ramesses ii          1.435273\n",
       "medieval period      1.432634\n",
       "know old             1.429150\n",
       "historical record    1.427933\n",
       "south america        1.427694\n",
       "north african        1.418406"
      ]
     },
     "execution_count": 10,
     "metadata": {},
     "output_type": "execute_result"
    }
   ],
   "source": [
    "coef_df = pd.DataFrame.from_dict(feat_dict, orient='index')\n",
    "coef_df.columns = ['Coef']\n",
    "coef_df.sort_values(by='Coef', ascending=False).head(20)"
   ]
  },
  {
   "cell_type": "code",
   "execution_count": 70,
   "metadata": {},
   "outputs": [
    {
     "data": {
      "image/png": "[encoded data removed]",
      "text/plain": [
       "<Figure size 432x288 with 1 Axes>"
      ]
     },
     "metadata": {
      "needs_background": "light"
     },
     "output_type": "display_data"
    }
   ],
   "source": [
    "sns.heatmap(coef_df.sort_values(by='Coef', ascending=False).head(20), \n",
    "            cmap='Reds',\n",
    "            vmin=0,\n",
    "            annot=True,\n",
    "            cbar=False,\n",
    "            xticklabels=False\n",
    "           )\n",
    "plt.title('10 Most Correlated Bi-grams for r/AskHistorians')\n",
    "plt.ylabel('Term')\n",
    "plt.xlabel('Coefficient');"
   ]
  },
  {
   "cell_type": "markdown",
   "metadata": {},
   "source": [
    "### Looking at 3-grams"
   ]
  },
  {
   "cell_type": "code",
   "execution_count": 15,
   "metadata": {},
   "outputs": [],
   "source": [
    "model_3vec = make_pipeline(CountVectorizer(ngram_range=(3,3)), LogisticRegression())\n",
    "model_3vec.fit(X_train, y_train);"
   ]
  },
  {
   "cell_type": "code",
   "execution_count": 16,
   "metadata": {},
   "outputs": [
    {
     "name": "stdout",
     "output_type": "stream",
     "text": [
      "0.998997995991984\n",
      "0.8787575150300602\n"
     ]
    }
   ],
   "source": [
    "print(model_3vec.score(X_train, y_train))\n",
    "print(model_3vec.score(X_test, y_test))"
   ]
  },
  {
   "cell_type": "code",
   "execution_count": 19,
   "metadata": {},
   "outputs": [],
   "source": [
    "coef2 = np.exp(model_3vec.named_steps['logisticregression'].coef_)[0]\n",
    "\n",
    "features2 = model_3vec.named_steps['countvectorizer'].get_feature_names()\n",
    "\n",
    "feat_dict2 = dict(zip(features2, coef2))"
   ]
  },
  {
   "cell_type": "code",
   "execution_count": 20,
   "metadata": {},
   "outputs": [
    {
     "data": {
      "text/html": [
       "<div>\n",
       "<style scoped>\n",
       "    .dataframe tbody tr th:only-of-type {\n",
       "        vertical-align: middle;\n",
       "    }\n",
       "\n",
       "    .dataframe tbody tr th {\n",
       "        vertical-align: top;\n",
       "    }\n",
       "\n",
       "    .dataframe thead th {\n",
       "        text-align: right;\n",
       "    }\n",
       "</style>\n",
       "<table border=\"1\" class=\"dataframe\">\n",
       "  <thead>\n",
       "    <tr style=\"text-align: right;\">\n",
       "      <th></th>\n",
       "      <th>Coef</th>\n",
       "    </tr>\n",
       "  </thead>\n",
       "  <tbody>\n",
       "    <tr>\n",
       "      <th>american civil war</th>\n",
       "      <td>1.965574</td>\n",
       "    </tr>\n",
       "    <tr>\n",
       "      <th>canada get independece</th>\n",
       "      <td>1.560284</td>\n",
       "    </tr>\n",
       "    <tr>\n",
       "      <th>nudity become taboo</th>\n",
       "      <td>1.560284</td>\n",
       "    </tr>\n",
       "    <tr>\n",
       "      <th>militate great men</th>\n",
       "      <td>1.466995</td>\n",
       "    </tr>\n",
       "    <tr>\n",
       "      <th>germany militate great</th>\n",
       "      <td>1.466995</td>\n",
       "    </tr>\n",
       "    <tr>\n",
       "      <th>ferdinand targeted assassination</th>\n",
       "      <td>1.430582</td>\n",
       "    </tr>\n",
       "    <tr>\n",
       "      <th>ottoman empire affected</th>\n",
       "      <td>1.430582</td>\n",
       "    </tr>\n",
       "    <tr>\n",
       "      <th>existence xia dynasty</th>\n",
       "      <td>1.430582</td>\n",
       "    </tr>\n",
       "    <tr>\n",
       "      <th>forez become french</th>\n",
       "      <td>1.430582</td>\n",
       "    </tr>\n",
       "    <tr>\n",
       "      <th>franz ferdinand targeted</th>\n",
       "      <td>1.430582</td>\n",
       "    </tr>\n",
       "    <tr>\n",
       "      <th>county forez become</th>\n",
       "      <td>1.430582</td>\n",
       "    </tr>\n",
       "    <tr>\n",
       "      <th>empire affected renaissance</th>\n",
       "      <td>1.430582</td>\n",
       "    </tr>\n",
       "    <tr>\n",
       "      <th>evidence existence xia</th>\n",
       "      <td>1.430582</td>\n",
       "    </tr>\n",
       "    <tr>\n",
       "      <th>american revolutionary war</th>\n",
       "      <td>1.362283</td>\n",
       "    </tr>\n",
       "    <tr>\n",
       "      <th>anyone know old</th>\n",
       "      <td>1.355324</td>\n",
       "    </tr>\n",
       "    <tr>\n",
       "      <th>know old tourette</th>\n",
       "      <td>1.355324</td>\n",
       "    </tr>\n",
       "    <tr>\n",
       "      <th>ichi go successfull</th>\n",
       "      <td>1.355324</td>\n",
       "    </tr>\n",
       "    <tr>\n",
       "      <th>speak romance language</th>\n",
       "      <td>1.355324</td>\n",
       "    </tr>\n",
       "    <tr>\n",
       "      <th>address fact aryan</th>\n",
       "      <td>1.355324</td>\n",
       "    </tr>\n",
       "    <tr>\n",
       "      <th>fact aryan ideal</th>\n",
       "      <td>1.355324</td>\n",
       "    </tr>\n",
       "  </tbody>\n",
       "</table>\n",
       "</div>"
      ],
      "text/plain": [
       "                                      Coef\n",
       "american civil war                1.965574\n",
       "canada get independece            1.560284\n",
       "nudity become taboo               1.560284\n",
       "militate great men                1.466995\n",
       "germany militate great            1.466995\n",
       "ferdinand targeted assassination  1.430582\n",
       "ottoman empire affected           1.430582\n",
       "existence xia dynasty             1.430582\n",
       "forez become french               1.430582\n",
       "franz ferdinand targeted          1.430582\n",
       "county forez become               1.430582\n",
       "empire affected renaissance       1.430582\n",
       "evidence existence xia            1.430582\n",
       "american revolutionary war        1.362283\n",
       "anyone know old                   1.355324\n",
       "know old tourette                 1.355324\n",
       "ichi go successfull               1.355324\n",
       "speak romance language            1.355324\n",
       "address fact aryan                1.355324\n",
       "fact aryan ideal                  1.355324"
      ]
     },
     "execution_count": 20,
     "metadata": {},
     "output_type": "execute_result"
    }
   ],
   "source": [
    "coef2_df = pd.DataFrame.from_dict(feat_dict2, orient='index')\n",
    "coef2_df.columns = ['Coef']\n",
    "coef2_df.sort_values(by='Coef', ascending=False).head(20)"
   ]
  },
  {
   "cell_type": "code",
   "execution_count": 76,
   "metadata": {},
   "outputs": [
    {
     "data": {
      "image/png": "[encoded data removed]",
      "text/plain": [
       "<Figure size 432x288 with 1 Axes>"
      ]
     },
     "metadata": {
      "needs_background": "light"
     },
     "output_type": "display_data"
    }
   ],
   "source": [
    "sns.heatmap(coef2_df.sort_values(by='Coef', ascending=False).head(10), \n",
    "            cmap='Blues',\n",
    "            vmin=0,\n",
    "            annot=True,\n",
    "            cbar=False,\n",
    "            xticklabels=False\n",
    "           )\n",
    "plt.title('10 Most Correlated 3-grams for r/AskHistorians')\n",
    "plt.ylabel('Term')\n",
    "plt.xlabel('Coefficient');"
   ]
  },
  {
   "cell_type": "markdown",
   "metadata": {},
   "source": [
    "### Looking at 5-grams"
   ]
  },
  {
   "cell_type": "code",
   "execution_count": 24,
   "metadata": {},
   "outputs": [],
   "source": [
    "model_5vec = make_pipeline(CountVectorizer(ngram_range=(5,5)), LogisticRegression())\n",
    "model_5vec.fit(X_train, y_train);"
   ]
  },
  {
   "cell_type": "code",
   "execution_count": 25,
   "metadata": {},
   "outputs": [
    {
     "name": "stdout",
     "output_type": "stream",
     "text": [
      "0.9943219772879092\n",
      "0.872745490981964\n"
     ]
    }
   ],
   "source": [
    "print(model_5vec.score(X_train, y_train))\n",
    "print(model_5vec.score(X_test, y_test))"
   ]
  },
  {
   "cell_type": "code",
   "execution_count": 27,
   "metadata": {},
   "outputs": [],
   "source": [
    "coef3 = np.exp(model_5vec.named_steps['logisticregression'].coef_)[0]\n",
    "\n",
    "features3 = model_5vec.named_steps['countvectorizer'].get_feature_names()\n",
    "\n",
    "feat_dict3 = dict(zip(features3, coef3))"
   ]
  },
  {
   "cell_type": "code",
   "execution_count": 29,
   "metadata": {
    "scrolled": false
   },
   "outputs": [
    {
     "data": {
      "text/html": [
       "<div>\n",
       "<style scoped>\n",
       "    .dataframe tbody tr th:only-of-type {\n",
       "        vertical-align: middle;\n",
       "    }\n",
       "\n",
       "    .dataframe tbody tr th {\n",
       "        vertical-align: top;\n",
       "    }\n",
       "\n",
       "    .dataframe thead th {\n",
       "        text-align: right;\n",
       "    }\n",
       "</style>\n",
       "<table border=\"1\" class=\"dataframe\">\n",
       "  <thead>\n",
       "    <tr style=\"text-align: right;\">\n",
       "      <th></th>\n",
       "      <th>Coef</th>\n",
       "    </tr>\n",
       "  </thead>\n",
       "  <tbody>\n",
       "    <tr>\n",
       "      <th>napoleon bonaparte interested conquering europe</th>\n",
       "      <td>1.550185</td>\n",
       "    </tr>\n",
       "    <tr>\n",
       "      <th>hitler address fact aryan ideal</th>\n",
       "      <td>1.550185</td>\n",
       "    </tr>\n",
       "    <tr>\n",
       "      <th>movie theater become associated popcorn</th>\n",
       "      <td>1.550185</td>\n",
       "    </tr>\n",
       "    <tr>\n",
       "      <th>habitat chicken pork farm existed</th>\n",
       "      <td>1.550185</td>\n",
       "    </tr>\n",
       "    <tr>\n",
       "      <th>anyone know old tourette syndrome</th>\n",
       "      <td>1.550185</td>\n",
       "    </tr>\n",
       "    <tr>\n",
       "      <th>exactly operation ichi go successfull</th>\n",
       "      <td>1.550185</td>\n",
       "    </tr>\n",
       "    <tr>\n",
       "      <th>know woman embroidered bayeux tapestry</th>\n",
       "      <td>1.550185</td>\n",
       "    </tr>\n",
       "    <tr>\n",
       "      <th>romanian speak romance language albanian</th>\n",
       "      <td>1.550185</td>\n",
       "    </tr>\n",
       "    <tr>\n",
       "      <th>honest account american revolutionary war</th>\n",
       "      <td>1.550185</td>\n",
       "    </tr>\n",
       "    <tr>\n",
       "      <th>effect enlightenment view homosexuality europe</th>\n",
       "      <td>1.518333</td>\n",
       "    </tr>\n",
       "    <tr>\n",
       "      <th>impact introduction nh educational system</th>\n",
       "      <td>1.423901</td>\n",
       "    </tr>\n",
       "    <tr>\n",
       "      <th>german wwii version usa rosie</th>\n",
       "      <td>1.423901</td>\n",
       "    </tr>\n",
       "    <tr>\n",
       "      <th>right roman citizen latin pre</th>\n",
       "      <td>1.423901</td>\n",
       "    </tr>\n",
       "    <tr>\n",
       "      <th>difference persian empire sassanid empire</th>\n",
       "      <td>1.423901</td>\n",
       "    </tr>\n",
       "    <tr>\n",
       "      <th>happened mexican resident west coast</th>\n",
       "      <td>1.423901</td>\n",
       "    </tr>\n",
       "    <tr>\n",
       "      <th>north pacific road go bankrupt</th>\n",
       "      <td>1.423901</td>\n",
       "    </tr>\n",
       "    <tr>\n",
       "      <th>wwii version usa rosie riveter</th>\n",
       "      <td>1.423901</td>\n",
       "    </tr>\n",
       "    <tr>\n",
       "      <th>combat cavalry unit like medieval</th>\n",
       "      <td>1.423901</td>\n",
       "    </tr>\n",
       "    <tr>\n",
       "      <th>christian fighting moor reconquista way</th>\n",
       "      <td>1.423901</td>\n",
       "    </tr>\n",
       "    <tr>\n",
       "      <th>mexican resident west coast conquered</th>\n",
       "      <td>1.423901</td>\n",
       "    </tr>\n",
       "  </tbody>\n",
       "</table>\n",
       "</div>"
      ],
      "text/plain": [
       "                                                     Coef\n",
       "napoleon bonaparte interested conquering europe  1.550185\n",
       "hitler address fact aryan ideal                  1.550185\n",
       "movie theater become associated popcorn          1.550185\n",
       "habitat chicken pork farm existed                1.550185\n",
       "anyone know old tourette syndrome                1.550185\n",
       "exactly operation ichi go successfull            1.550185\n",
       "know woman embroidered bayeux tapestry           1.550185\n",
       "romanian speak romance language albanian         1.550185\n",
       "honest account american revolutionary war        1.550185\n",
       "effect enlightenment view homosexuality europe   1.518333\n",
       "impact introduction nh educational system        1.423901\n",
       "german wwii version usa rosie                    1.423901\n",
       "right roman citizen latin pre                    1.423901\n",
       "difference persian empire sassanid empire        1.423901\n",
       "happened mexican resident west coast             1.423901\n",
       "north pacific road go bankrupt                   1.423901\n",
       "wwii version usa rosie riveter                   1.423901\n",
       "combat cavalry unit like medieval                1.423901\n",
       "christian fighting moor reconquista way          1.423901\n",
       "mexican resident west coast conquered            1.423901"
      ]
     },
     "execution_count": 29,
     "metadata": {},
     "output_type": "execute_result"
    }
   ],
   "source": [
    "coef3_df = pd.DataFrame.from_dict(feat_dict3, orient='index')\n",
    "coef3_df.columns = ['Coef']\n",
    "coef3_df.sort_values(by='Coef', ascending=False).head(20)"
   ]
  },
  {
   "cell_type": "code",
   "execution_count": 32,
   "metadata": {},
   "outputs": [
    {
     "data": {
      "image/png": "[encoded data removed]",
      "text/plain": [
       "<Figure size 432x288 with 1 Axes>"
      ]
     },
     "metadata": {
      "needs_background": "light"
     },
     "output_type": "display_data"
    }
   ],
   "source": [
    "sns.heatmap(coef3_df.sort_values(by='Coef', ascending=False).head(15), \n",
    "            cmap='PRGn',\n",
    "            vmin=0,\n",
    "            annot=True,\n",
    "            cbar=False,\n",
    "            xticklabels=False\n",
    "           )\n",
    "plt.title('10 Most Correlated 5-grams for r/AskHistorians')\n",
    "plt.ylabel('Term')\n",
    "plt.xlabel('Coefficient');"
   ]
  },
  {
   "cell_type": "markdown",
   "metadata": {},
   "source": [
    "### Looking at Tf-idf Correlations\n",
    "\n",
    "I wanted to see why tf-idf did so poorly so I compared features."
   ]
  },
  {
   "cell_type": "markdown",
   "metadata": {},
   "source": [
    "**1-grams**"
   ]
  },
  {
   "cell_type": "code",
   "execution_count": 34,
   "metadata": {},
   "outputs": [],
   "source": [
    "model_tfi = make_pipeline(TfidfVectorizer(ngram_range=(1,1)), LogisticRegression())\n",
    "model_tfi.fit(X_train, y_train);"
   ]
  },
  {
   "cell_type": "code",
   "execution_count": 35,
   "metadata": {},
   "outputs": [
    {
     "name": "stdout",
     "output_type": "stream",
     "text": [
      "0.9509018036072144\n",
      "0.8366733466933868\n"
     ]
    }
   ],
   "source": [
    "print(model_tfi.score(X_train, y_train))\n",
    "print(model_tfi.score(X_test, y_test))"
   ]
  },
  {
   "cell_type": "code",
   "execution_count": 37,
   "metadata": {},
   "outputs": [],
   "source": [
    "coef_tfi = np.exp(model_tfi.named_steps['logisticregression'].coef_)[0]\n",
    "\n",
    "features_tfi = model_tfi.named_steps['tfidfvectorizer'].get_feature_names()\n",
    "\n",
    "feat_dict_tfi = dict(zip(features_tfi, coef_tfi))"
   ]
  },
  {
   "cell_type": "code",
   "execution_count": 38,
   "metadata": {
    "scrolled": true
   },
   "outputs": [
    {
     "data": {
      "text/html": [
       "<div>\n",
       "<style scoped>\n",
       "    .dataframe tbody tr th:only-of-type {\n",
       "        vertical-align: middle;\n",
       "    }\n",
       "\n",
       "    .dataframe tbody tr th {\n",
       "        vertical-align: top;\n",
       "    }\n",
       "\n",
       "    .dataframe thead th {\n",
       "        text-align: right;\n",
       "    }\n",
       "</style>\n",
       "<table border=\"1\" class=\"dataframe\">\n",
       "  <thead>\n",
       "    <tr style=\"text-align: right;\">\n",
       "      <th></th>\n",
       "      <th>Coef</th>\n",
       "    </tr>\n",
       "  </thead>\n",
       "  <tbody>\n",
       "    <tr>\n",
       "      <th>north</th>\n",
       "      <td>4.593789</td>\n",
       "    </tr>\n",
       "    <tr>\n",
       "      <th>use</th>\n",
       "      <td>3.812236</td>\n",
       "    </tr>\n",
       "    <tr>\n",
       "      <th>heard</th>\n",
       "      <td>3.521628</td>\n",
       "    </tr>\n",
       "    <tr>\n",
       "      <th>civil</th>\n",
       "      <td>3.145743</td>\n",
       "    </tr>\n",
       "    <tr>\n",
       "      <th>american</th>\n",
       "      <td>3.006687</td>\n",
       "    </tr>\n",
       "    <tr>\n",
       "      <th>woman</th>\n",
       "      <td>2.909038</td>\n",
       "    </tr>\n",
       "    <tr>\n",
       "      <th>practice</th>\n",
       "      <td>2.904070</td>\n",
       "    </tr>\n",
       "    <tr>\n",
       "      <th>source</th>\n",
       "      <td>2.851510</td>\n",
       "    </tr>\n",
       "    <tr>\n",
       "      <th>dark</th>\n",
       "      <td>2.558192</td>\n",
       "    </tr>\n",
       "    <tr>\n",
       "      <th>united</th>\n",
       "      <td>2.521401</td>\n",
       "    </tr>\n",
       "    <tr>\n",
       "      <th>specifically</th>\n",
       "      <td>2.509659</td>\n",
       "    </tr>\n",
       "    <tr>\n",
       "      <th>academic</th>\n",
       "      <td>2.504731</td>\n",
       "    </tr>\n",
       "    <tr>\n",
       "      <th>rule</th>\n",
       "      <td>2.482576</td>\n",
       "    </tr>\n",
       "    <tr>\n",
       "      <th>among</th>\n",
       "      <td>2.454831</td>\n",
       "    </tr>\n",
       "    <tr>\n",
       "      <th>support</th>\n",
       "      <td>2.274140</td>\n",
       "    </tr>\n",
       "    <tr>\n",
       "      <th>gun</th>\n",
       "      <td>2.273494</td>\n",
       "    </tr>\n",
       "    <tr>\n",
       "      <th>elephant</th>\n",
       "      <td>2.250349</td>\n",
       "    </tr>\n",
       "    <tr>\n",
       "      <th>south</th>\n",
       "      <td>2.248650</td>\n",
       "    </tr>\n",
       "    <tr>\n",
       "      <th>debt</th>\n",
       "      <td>2.239797</td>\n",
       "    </tr>\n",
       "    <tr>\n",
       "      <th>treated</th>\n",
       "      <td>2.239521</td>\n",
       "    </tr>\n",
       "  </tbody>\n",
       "</table>\n",
       "</div>"
      ],
      "text/plain": [
       "                  Coef\n",
       "north         4.593789\n",
       "use           3.812236\n",
       "heard         3.521628\n",
       "civil         3.145743\n",
       "american      3.006687\n",
       "woman         2.909038\n",
       "practice      2.904070\n",
       "source        2.851510\n",
       "dark          2.558192\n",
       "united        2.521401\n",
       "specifically  2.509659\n",
       "academic      2.504731\n",
       "rule          2.482576\n",
       "among         2.454831\n",
       "support       2.274140\n",
       "gun           2.273494\n",
       "elephant      2.250349\n",
       "south         2.248650\n",
       "debt          2.239797\n",
       "treated       2.239521"
      ]
     },
     "execution_count": 38,
     "metadata": {},
     "output_type": "execute_result"
    }
   ],
   "source": [
    "coef_df_tfi = pd.DataFrame.from_dict(feat_dict_tfi, orient='index')\n",
    "coef_df_tfi.columns = ['Coef']\n",
    "coef_df_tfi.sort_values(by='Coef', ascending=False).head(20)"
   ]
  },
  {
   "cell_type": "code",
   "execution_count": 44,
   "metadata": {},
   "outputs": [
    {
     "data": {
      "image/png": "[encoded data removed]",
      "text/plain": [
       "<Figure size 432x288 with 1 Axes>"
      ]
     },
     "metadata": {
      "needs_background": "light"
     },
     "output_type": "display_data"
    }
   ],
   "source": [
    "sns.heatmap(coef_df_tfi.sort_values(by='Coef', ascending=False).head(20), \n",
    "            cmap='PRGn',\n",
    "            vmin=0,\n",
    "            annot=True,\n",
    "            cbar=False,\n",
    "            xticklabels=False\n",
    "           )\n",
    "plt.title('10 Most Correlated Tf-idf Words for r/AskHistorians')\n",
    "plt.ylabel('Term')\n",
    "plt.xlabel('Coefficient');"
   ]
  },
  {
   "cell_type": "markdown",
   "metadata": {},
   "source": [
    "**Bi-grams**"
   ]
  },
  {
   "cell_type": "code",
   "execution_count": 40,
   "metadata": {},
   "outputs": [
    {
     "name": "stderr",
     "output_type": "stream",
     "text": [
      "C:\\Users\\flake\\Anaconda3\\envs\\GA_DSI\\lib\\site-packages\\sklearn\\linear_model\\logistic.py:432: FutureWarning: Default solver will be changed to 'lbfgs' in 0.22. Specify a solver to silence this warning.\n",
      "  FutureWarning)\n"
     ]
    },
    {
     "data": {
      "text/plain": [
       "Pipeline(memory=None,\n",
       "         steps=[('tfidfvectorizer',\n",
       "                 TfidfVectorizer(analyzer='word', binary=False,\n",
       "                                 decode_error='strict',\n",
       "                                 dtype=<class 'numpy.float64'>,\n",
       "                                 encoding='utf-8', input='content',\n",
       "                                 lowercase=True, max_df=1.0, max_features=None,\n",
       "                                 min_df=1, ngram_range=(2, 2), norm='l2',\n",
       "                                 preprocessor=None, smooth_idf=True,\n",
       "                                 stop_words=None, strip_accents=None,\n",
       "                                 sublinear_tf=False,\n",
       "                                 token_pattern='(?u)\\\\b\\\\w\\\\w+\\\\b',\n",
       "                                 tokenizer=None, use_idf=True,\n",
       "                                 vocabulary=None)),\n",
       "                ('logisticregression',\n",
       "                 LogisticRegression(C=1.0, class_weight=None, dual=False,\n",
       "                                    fit_intercept=True, intercept_scaling=1,\n",
       "                                    l1_ratio=None, max_iter=100,\n",
       "                                    multi_class='warn', n_jobs=None,\n",
       "                                    penalty='l2', random_state=None,\n",
       "                                    solver='warn', tol=0.0001, verbose=0,\n",
       "                                    warm_start=False))],\n",
       "         verbose=False)"
      ]
     },
     "execution_count": 40,
     "metadata": {},
     "output_type": "execute_result"
    }
   ],
   "source": [
    "model2_tfi = make_pipeline(TfidfVectorizer(ngram_range=(2,2)), LogisticRegression())\n",
    "model2_tfi.fit(X_train, y_train);"
   ]
  },
  {
   "cell_type": "code",
   "execution_count": 41,
   "metadata": {},
   "outputs": [
    {
     "name": "stdout",
     "output_type": "stream",
     "text": [
      "0.9976619906479626\n",
      "0.906813627254509\n"
     ]
    }
   ],
   "source": [
    "print(model2_tfi.score(X_train, y_train))\n",
    "print(model2_tfi.score(X_test, y_test))"
   ]
  },
  {
   "cell_type": "code",
   "execution_count": 42,
   "metadata": {},
   "outputs": [],
   "source": [
    "coef2_tfi = np.exp(model2_tfi.named_steps['logisticregression'].coef_)[0]\n",
    "\n",
    "features2_tfi = model2_tfi.named_steps['tfidfvectorizer'].get_feature_names()\n",
    "\n",
    "feat_dict2_tfi = dict(zip(features2_tfi, coef2_tfi))"
   ]
  },
  {
   "cell_type": "code",
   "execution_count": 43,
   "metadata": {},
   "outputs": [
    {
     "data": {
      "text/html": [
       "<div>\n",
       "<style scoped>\n",
       "    .dataframe tbody tr th:only-of-type {\n",
       "        vertical-align: middle;\n",
       "    }\n",
       "\n",
       "    .dataframe tbody tr th {\n",
       "        vertical-align: top;\n",
       "    }\n",
       "\n",
       "    .dataframe thead th {\n",
       "        text-align: right;\n",
       "    }\n",
       "</style>\n",
       "<table border=\"1\" class=\"dataframe\">\n",
       "  <thead>\n",
       "    <tr style=\"text-align: right;\">\n",
       "      <th></th>\n",
       "      <th>Coef</th>\n",
       "    </tr>\n",
       "  </thead>\n",
       "  <tbody>\n",
       "    <tr>\n",
       "      <th>american civil</th>\n",
       "      <td>2.381462</td>\n",
       "    </tr>\n",
       "    <tr>\n",
       "      <th>civil war</th>\n",
       "      <td>2.114173</td>\n",
       "    </tr>\n",
       "    <tr>\n",
       "      <th>american revolution</th>\n",
       "      <td>2.059882</td>\n",
       "    </tr>\n",
       "    <tr>\n",
       "      <th>dark age</th>\n",
       "      <td>2.009658</td>\n",
       "    </tr>\n",
       "    <tr>\n",
       "      <th>united state</th>\n",
       "      <td>1.981522</td>\n",
       "    </tr>\n",
       "    <tr>\n",
       "      <th>king tut</th>\n",
       "      <td>1.936805</td>\n",
       "    </tr>\n",
       "    <tr>\n",
       "      <th>20th century</th>\n",
       "      <td>1.820133</td>\n",
       "    </tr>\n",
       "    <tr>\n",
       "      <th>franz ferdinand</th>\n",
       "      <td>1.766647</td>\n",
       "    </tr>\n",
       "    <tr>\n",
       "      <th>south africa</th>\n",
       "      <td>1.741469</td>\n",
       "    </tr>\n",
       "    <tr>\n",
       "      <th>nazi germany</th>\n",
       "      <td>1.724817</td>\n",
       "    </tr>\n",
       "    <tr>\n",
       "      <th>british rule</th>\n",
       "      <td>1.704222</td>\n",
       "    </tr>\n",
       "    <tr>\n",
       "      <th>come know</th>\n",
       "      <td>1.694429</td>\n",
       "    </tr>\n",
       "    <tr>\n",
       "      <th>red army</th>\n",
       "      <td>1.689318</td>\n",
       "    </tr>\n",
       "    <tr>\n",
       "      <th>russian navy</th>\n",
       "      <td>1.686612</td>\n",
       "    </tr>\n",
       "    <tr>\n",
       "      <th>medieval europe</th>\n",
       "      <td>1.652365</td>\n",
       "    </tr>\n",
       "    <tr>\n",
       "      <th>ramesses ii</th>\n",
       "      <td>1.648524</td>\n",
       "    </tr>\n",
       "    <tr>\n",
       "      <th>north africa</th>\n",
       "      <td>1.621883</td>\n",
       "    </tr>\n",
       "    <tr>\n",
       "      <th>ever actually</th>\n",
       "      <td>1.603981</td>\n",
       "    </tr>\n",
       "    <tr>\n",
       "      <th>historical record</th>\n",
       "      <td>1.603464</td>\n",
       "    </tr>\n",
       "    <tr>\n",
       "      <th>become taboo</th>\n",
       "      <td>1.595881</td>\n",
       "    </tr>\n",
       "  </tbody>\n",
       "</table>\n",
       "</div>"
      ],
      "text/plain": [
       "                         Coef\n",
       "american civil       2.381462\n",
       "civil war            2.114173\n",
       "american revolution  2.059882\n",
       "dark age             2.009658\n",
       "united state         1.981522\n",
       "king tut             1.936805\n",
       "20th century         1.820133\n",
       "franz ferdinand      1.766647\n",
       "south africa         1.741469\n",
       "nazi germany         1.724817\n",
       "british rule         1.704222\n",
       "come know            1.694429\n",
       "red army             1.689318\n",
       "russian navy         1.686612\n",
       "medieval europe      1.652365\n",
       "ramesses ii          1.648524\n",
       "north africa         1.621883\n",
       "ever actually        1.603981\n",
       "historical record    1.603464\n",
       "become taboo         1.595881"
      ]
     },
     "execution_count": 43,
     "metadata": {},
     "output_type": "execute_result"
    }
   ],
   "source": [
    "coef2_df_tfi = pd.DataFrame.from_dict(feat_dict2_tfi, orient='index')\n",
    "coef2_df_tfi.columns = ['Coef']\n",
    "coef2_df_tfi.sort_values(by='Coef', ascending=False).head(20)"
   ]
  },
  {
   "cell_type": "code",
   "execution_count": 45,
   "metadata": {},
   "outputs": [
    {
     "data": {
      "image/png": "[encoded data removed]",
      "text/plain": [
       "<Figure size 432x288 with 1 Axes>"
      ]
     },
     "metadata": {
      "needs_background": "light"
     },
     "output_type": "display_data"
    }
   ],
   "source": [
    "sns.heatmap(coef2_df_tfi.sort_values(by='Coef', ascending=False).head(20), \n",
    "            cmap='PRGn',\n",
    "            vmin=0,\n",
    "            annot=True,\n",
    "            cbar=False,\n",
    "            xticklabels=False\n",
    "           )\n",
    "plt.title('10 Most Correlated Tf-idf Bi-grams for r/AskHistorians')\n",
    "plt.ylabel('Term')\n",
    "plt.xlabel('Coefficient');"
   ]
  },
  {
   "cell_type": "markdown",
   "metadata": {},
   "source": [
    "### Comparing Tf-idf and CountVec terms"
   ]
  },
  {
   "cell_type": "markdown",
   "metadata": {},
   "source": [
    "Bi-grams that appear only in cvec."
   ]
  },
  {
   "cell_type": "code",
   "execution_count": 62,
   "metadata": {
    "scrolled": true
   },
   "outputs": [
    {
     "data": {
      "text/plain": [
       "{'know old',\n",
       " 'major difference',\n",
       " 'medieval period',\n",
       " 'militate great',\n",
       " 'north african',\n",
       " 'old tourette',\n",
       " 'south america',\n",
       " 'start finish',\n",
       " 'tourette syndrome'}"
      ]
     },
     "execution_count": 62,
     "metadata": {},
     "output_type": "execute_result"
    }
   ],
   "source": [
    "set(coef_df.sort_values(by='Coef', ascending=False).head(20).index)-set(coef2_df_tfi.sort_values(by='Coef', ascending=False).head(20).index)"
   ]
  },
  {
   "cell_type": "markdown",
   "metadata": {},
   "source": [
    "Bi-grams that are only in tf-idf"
   ]
  },
  {
   "cell_type": "code",
   "execution_count": 64,
   "metadata": {
    "scrolled": true
   },
   "outputs": [
    {
     "data": {
      "text/plain": [
       "{'20th century',\n",
       " 'become taboo',\n",
       " 'civil war',\n",
       " 'medieval europe',\n",
       " 'nazi germany',\n",
       " 'north africa',\n",
       " 'red army',\n",
       " 'russian navy',\n",
       " 'united state'}"
      ]
     },
     "execution_count": 64,
     "metadata": {},
     "output_type": "execute_result"
    }
   ],
   "source": [
    "set(coef2_df_tfi.sort_values(by='Coef', ascending=False).head(20).index)-set(coef_df.sort_values(by='Coef', ascending=False).head(20).index)"
   ]
  },
  {
   "cell_type": "markdown",
   "metadata": {},
   "source": [
    "No immediate conclusions can really be drawn from these differences"
   ]
  }
 ],
 "metadata": {
  "kernelspec": {
   "display_name": "Python 3",
   "language": "python",
   "name": "python3"
  },
  "language_info": {
   "codemirror_mode": {
    "name": "ipython",
    "version": 3
   },
   "file_extension": ".py",
   "mimetype": "text/x-python",
   "name": "python",
   "nbconvert_exporter": "python",
   "pygments_lexer": "ipython3",
   "version": "3.7.3"
  },
  "pycharm": {
   "stem_cell": {
    "cell_type": "raw",
    "metadata": {
     "collapsed": false
    },
    "source": []
   }
  }
 },
 "nbformat": 4,
 "nbformat_minor": 2
}
