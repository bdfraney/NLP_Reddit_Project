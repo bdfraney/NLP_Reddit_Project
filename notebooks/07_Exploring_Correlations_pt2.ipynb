{
 "cells": [
  {
   "cell_type": "markdown",
   "metadata": {},
   "source": [
    "#  Exploring the Correlation of the Words and Phrases Pt 2\n",
    "---\n",
    "\n",
    "Looking at correlations with the postive class switched (i.e. AskHistorians is negative and History is postive)."
   ]
  },
  {
   "cell_type": "code",
   "execution_count": 37,
   "metadata": {
    "pycharm": {
     "is_executing": false
    }
   },
   "outputs": [],
   "source": [
    "import pandas as pd\n",
    "import numpy as np\n",
    "\n",
    "from sklearn.pipeline import make_pipeline\n",
    "from sklearn.linear_model import LogisticRegression\n",
    "from sklearn.model_selection import train_test_split\n",
    "from sklearn.feature_extraction.text import CountVectorizer\n",
    "\n",
    "\n",
    "import matplotlib.pyplot as plt\n",
    "import matplotlib.style as style\n",
    "import seaborn as sns\n",
    "style.use('fivethirtyeight')"
   ]
  },
  {
   "cell_type": "code",
   "execution_count": 29,
   "metadata": {},
   "outputs": [],
   "source": [
    "reddit_df= pd.read_csv('../data/reddit_df.csv')"
   ]
  },
  {
   "cell_type": "code",
   "execution_count": 30,
   "metadata": {},
   "outputs": [],
   "source": [
    "reddit_df['subs_switched'] = reddit_df['subreddit'].map({1:0, 0:1})"
   ]
  },
  {
   "cell_type": "code",
   "execution_count": 31,
   "metadata": {},
   "outputs": [],
   "source": [
    "X = reddit_df['full_text_clean']\n",
    "y = reddit_df['subs_switched']\n",
    "\n",
    "X_train, X_test, y_train, y_test = train_test_split(X, y, stratify=y, random_state=22)"
   ]
  },
  {
   "cell_type": "code",
   "execution_count": 32,
   "metadata": {},
   "outputs": [],
   "source": [
    "model2 = make_pipeline(CountVectorizer(ngram_range=(2,2)), LogisticRegression())"
   ]
  },
  {
   "cell_type": "code",
   "execution_count": 33,
   "metadata": {},
   "outputs": [
    {
     "name": "stderr",
     "output_type": "stream",
     "text": [
      "C:\\Users\\flake\\Anaconda3\\envs\\GA_DSI\\lib\\site-packages\\sklearn\\linear_model\\logistic.py:432: FutureWarning: Default solver will be changed to 'lbfgs' in 0.22. Specify a solver to silence this warning.\n",
      "  FutureWarning)\n"
     ]
    },
    {
     "name": "stdout",
     "output_type": "stream",
     "text": [
      "Train: 0.9993319973279893\n",
      "Test: 0.8877755511022044\n"
     ]
    }
   ],
   "source": [
    "model2.fit(X_train, y_train)\n",
    "print(f'Train: {model2.score(X_train, y2_train)}')\n",
    "print(f'Test: {model2.score(X_test, y2_test)}')"
   ]
  },
  {
   "cell_type": "code",
   "execution_count": 34,
   "metadata": {},
   "outputs": [
    {
     "data": {
      "text/plain": [
       "array([[-0.04428929,  0.01807627,  0.06972742, ...,  0.06630044,\n",
       "         0.03202935,  0.02312104]])"
      ]
     },
     "execution_count": 34,
     "metadata": {},
     "output_type": "execute_result"
    }
   ],
   "source": [
    "model2.named_steps['logisticregression'].coef_"
   ]
  },
  {
   "cell_type": "code",
   "execution_count": 35,
   "metadata": {},
   "outputs": [],
   "source": [
    "coef = np.exp(model2.named_steps['logisticregression'].coef_)[0]\n",
    "features = model2.named_steps['countvectorizer'].get_feature_names()\n",
    "feat_dict = dict(zip(features, coef))"
   ]
  },
  {
   "cell_type": "code",
   "execution_count": 36,
   "metadata": {},
   "outputs": [
    {
     "data": {
      "text/html": [
       "<div>\n",
       "<style scoped>\n",
       "    .dataframe tbody tr th:only-of-type {\n",
       "        vertical-align: middle;\n",
       "    }\n",
       "\n",
       "    .dataframe tbody tr th {\n",
       "        vertical-align: top;\n",
       "    }\n",
       "\n",
       "    .dataframe thead th {\n",
       "        text-align: right;\n",
       "    }\n",
       "</style>\n",
       "<table border=\"1\" class=\"dataframe\">\n",
       "  <thead>\n",
       "    <tr style=\"text-align: right;\">\n",
       "      <th></th>\n",
       "      <th>Coef</th>\n",
       "    </tr>\n",
       "  </thead>\n",
       "  <tbody>\n",
       "    <tr>\n",
       "      <th>throughout history</th>\n",
       "      <td>3.544497</td>\n",
       "    </tr>\n",
       "    <tr>\n",
       "      <th>history buff</th>\n",
       "      <td>2.637800</td>\n",
       "    </tr>\n",
       "    <tr>\n",
       "      <th>year ago</th>\n",
       "      <td>2.497869</td>\n",
       "    </tr>\n",
       "    <tr>\n",
       "      <th>oil defeated</th>\n",
       "      <td>2.120456</td>\n",
       "    </tr>\n",
       "    <tr>\n",
       "      <th>celtic warfare</th>\n",
       "      <td>2.120456</td>\n",
       "    </tr>\n",
       "    <tr>\n",
       "      <th>ancient celtic</th>\n",
       "      <td>2.120456</td>\n",
       "    </tr>\n",
       "    <tr>\n",
       "      <th>defeated nazi</th>\n",
       "      <td>2.120456</td>\n",
       "    </tr>\n",
       "    <tr>\n",
       "      <th>year old</th>\n",
       "      <td>2.096580</td>\n",
       "    </tr>\n",
       "    <tr>\n",
       "      <th>buff terror</th>\n",
       "      <td>1.979540</td>\n",
       "    </tr>\n",
       "    <tr>\n",
       "      <th>anyone know</th>\n",
       "      <td>1.952208</td>\n",
       "    </tr>\n",
       "    <tr>\n",
       "      <th>like know</th>\n",
       "      <td>1.909252</td>\n",
       "    </tr>\n",
       "    <tr>\n",
       "      <th>treaty returned</th>\n",
       "      <td>1.836863</td>\n",
       "    </tr>\n",
       "    <tr>\n",
       "      <th>historic treaty</th>\n",
       "      <td>1.836863</td>\n",
       "    </tr>\n",
       "    <tr>\n",
       "      <th>beach power</th>\n",
       "      <td>1.836863</td>\n",
       "    </tr>\n",
       "    <tr>\n",
       "      <th>power photography</th>\n",
       "      <td>1.836863</td>\n",
       "    </tr>\n",
       "    <tr>\n",
       "      <th>omaha beach</th>\n",
       "      <td>1.836863</td>\n",
       "    </tr>\n",
       "    <tr>\n",
       "      <th>returned navajo</th>\n",
       "      <td>1.836863</td>\n",
       "    </tr>\n",
       "    <tr>\n",
       "      <th>000 year</th>\n",
       "      <td>1.828441</td>\n",
       "    </tr>\n",
       "    <tr>\n",
       "      <th>revolution france</th>\n",
       "      <td>1.776286</td>\n",
       "    </tr>\n",
       "    <tr>\n",
       "      <th>british history</th>\n",
       "      <td>1.750163</td>\n",
       "    </tr>\n",
       "  </tbody>\n",
       "</table>\n",
       "</div>"
      ],
      "text/plain": [
       "                        Coef\n",
       "throughout history  3.544497\n",
       "history buff        2.637800\n",
       "year ago            2.497869\n",
       "oil defeated        2.120456\n",
       "celtic warfare      2.120456\n",
       "ancient celtic      2.120456\n",
       "defeated nazi       2.120456\n",
       "year old            2.096580\n",
       "buff terror         1.979540\n",
       "anyone know         1.952208\n",
       "like know           1.909252\n",
       "treaty returned     1.836863\n",
       "historic treaty     1.836863\n",
       "beach power         1.836863\n",
       "power photography   1.836863\n",
       "omaha beach         1.836863\n",
       "returned navajo     1.836863\n",
       "000 year            1.828441\n",
       "revolution france   1.776286\n",
       "british history     1.750163"
      ]
     },
     "execution_count": 36,
     "metadata": {},
     "output_type": "execute_result"
    }
   ],
   "source": [
    "coef_df = pd.DataFrame.from_dict(feat_dict, orient='index')\n",
    "coef_df.columns = ['Coef']\n",
    "coef_df.sort_values(by='Coef', ascending=False).head(20)"
   ]
  },
  {
   "cell_type": "code",
   "execution_count": 40,
   "metadata": {},
   "outputs": [
    {
     "data": {
      "image/png": "[encoded data removed]",
      "text/plain": [
       "<Figure size 432x288 with 1 Axes>"
      ]
     },
     "metadata": {
      "needs_background": "light"
     },
     "output_type": "display_data"
    }
   ],
   "source": [
    "sns.heatmap(coef_df.sort_values(by='Coef', ascending=False).head(20), \n",
    "            cmap='coolwarm',\n",
    "            vmin=0,\n",
    "            annot=True,\n",
    "            cbar=False,\n",
    "            xticklabels=False\n",
    "           )\n",
    "plt.title('10 Most Correlated Bi-grams for r/History')\n",
    "plt.ylabel('Term')\n",
    "plt.xlabel('Coefficient');"
   ]
  },
  {
   "cell_type": "markdown",
   "metadata": {},
   "source": [
    "The terms seem to be more casual than AskHistorians."
   ]
  }
 ],
 "metadata": {
  "kernelspec": {
   "display_name": "Python 3",
   "language": "python",
   "name": "python3"
  },
  "language_info": {
   "codemirror_mode": {
    "name": "ipython",
    "version": 3
   },
   "file_extension": ".py",
   "mimetype": "text/x-python",
   "name": "python",
   "nbconvert_exporter": "python",
   "pygments_lexer": "ipython3",
   "version": "3.7.3"
  },
  "pycharm": {
   "stem_cell": {
    "cell_type": "raw",
    "metadata": {
     "collapsed": false
    },
    "source": []
   }
  }
 },
 "nbformat": 4,
 "nbformat_minor": 2
}
