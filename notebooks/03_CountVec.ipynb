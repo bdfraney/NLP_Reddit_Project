{
 "cells": [
  {
   "cell_type": "markdown",
   "metadata": {},
   "source": [
    "#  Count Vectorization Model and Vader Sentiment Analysis\n",
    "---"
   ]
  },
  {
   "cell_type": "code",
   "execution_count": 1,
   "metadata": {},
   "outputs": [],
   "source": [
    "import numpy as np\n",
    "import pandas as pd\n",
    "\n",
    "from sklearn.model_selection import train_test_split, cross_val_score\n",
    "from sklearn.feature_extraction.text import CountVectorizer\n",
    "from sklearn.metrics import confusion_matrix, f1_score\n",
    "from sklearn.linear_model import LogisticRegression\n",
    "\n",
    "from nltk.sentiment.vader import SentimentIntensityAnalyzer\n",
    "\n",
    "import matplotlib.pyplot as plt\n",
    "import seaborn as sns\n",
    "import matplotlib.style as style\n",
    "style.use('fivethirtyeight')"
   ]
  },
  {
   "cell_type": "code",
   "execution_count": 2,
   "metadata": {
    "scrolled": true
   },
   "outputs": [],
   "source": [
    "reddit_df= pd.read_csv('../data/reddit_df.csv')"
   ]
  },
  {
   "cell_type": "code",
   "execution_count": 3,
   "metadata": {},
   "outputs": [
    {
     "data": {
      "text/html": [
       "<div>\n",
       "<style scoped>\n",
       "    .dataframe tbody tr th:only-of-type {\n",
       "        vertical-align: middle;\n",
       "    }\n",
       "\n",
       "    .dataframe tbody tr th {\n",
       "        vertical-align: top;\n",
       "    }\n",
       "\n",
       "    .dataframe thead th {\n",
       "        text-align: right;\n",
       "    }\n",
       "</style>\n",
       "<table border=\"1\" class=\"dataframe\">\n",
       "  <thead>\n",
       "    <tr style=\"text-align: right;\">\n",
       "      <th></th>\n",
       "      <th>subreddit</th>\n",
       "      <th>author</th>\n",
       "      <th>locked</th>\n",
       "      <th>num_comments</th>\n",
       "      <th>selftext</th>\n",
       "      <th>title</th>\n",
       "      <th>timestamp</th>\n",
       "      <th>full_text</th>\n",
       "      <th>full_text_clean</th>\n",
       "    </tr>\n",
       "  </thead>\n",
       "  <tbody>\n",
       "    <tr>\n",
       "      <th>0</th>\n",
       "      <td>1</td>\n",
       "      <td>AutoModerator</td>\n",
       "      <td>0</td>\n",
       "      <td>84</td>\n",
       "      <td>[Previous](/r/AskHistorians/search?q=title%3A\"...</td>\n",
       "      <td>Sunday Digest | Interesting &amp;amp; Overlooked P...</td>\n",
       "      <td>2019-07-07 14:04:52</td>\n",
       "      <td>Sunday Digest | Interesting &amp;amp; Overlooked P...</td>\n",
       "      <td>sunday digest interesting amp overlooked post ...</td>\n",
       "    </tr>\n",
       "    <tr>\n",
       "      <th>1</th>\n",
       "      <td>1</td>\n",
       "      <td>AutoModerator</td>\n",
       "      <td>0</td>\n",
       "      <td>1</td>\n",
       "      <td>[Previous weeks!](/r/AskHistorians/search?sort...</td>\n",
       "      <td>Short Answers to Simple Questions | July 10, 2019</td>\n",
       "      <td>2019-07-10 14:05:16</td>\n",
       "      <td>Short Answers to Simple Questions | July 10, 2...</td>\n",
       "      <td>short answer simple question july 10 2019 prev...</td>\n",
       "    </tr>\n",
       "    <tr>\n",
       "      <th>2</th>\n",
       "      <td>1</td>\n",
       "      <td>tiikerinsilma</td>\n",
       "      <td>0</td>\n",
       "      <td>26</td>\n",
       "      <td>I'm asking this partially because the atrociti...</td>\n",
       "      <td>(WW2) Did Japan have genocidal plans for Asia,...</td>\n",
       "      <td>2019-07-10 09:09:07</td>\n",
       "      <td>(WW2) Did Japan have genocidal plans for Asia,...</td>\n",
       "      <td>ww2 japan genocidal plan asia war asking parti...</td>\n",
       "    </tr>\n",
       "    <tr>\n",
       "      <th>3</th>\n",
       "      <td>1</td>\n",
       "      <td>Mr_Quinn</td>\n",
       "      <td>0</td>\n",
       "      <td>10</td>\n",
       "      <td>NaN</td>\n",
       "      <td>In 1627 the last aurochs, or wild cow, died in...</td>\n",
       "      <td>2019-07-10 14:00:39</td>\n",
       "      <td>In 1627 the last aurochs, or wild cow, died in...</td>\n",
       "      <td>1627 last aurochs wild cow died jaktor w fores...</td>\n",
       "    </tr>\n",
       "    <tr>\n",
       "      <th>4</th>\n",
       "      <td>1</td>\n",
       "      <td>Erezen</td>\n",
       "      <td>0</td>\n",
       "      <td>14</td>\n",
       "      <td>Moreover, how was the movie received in South ...</td>\n",
       "      <td>\"The Gods Must Be Crazy\" is a beloved South Af...</td>\n",
       "      <td>2019-07-09 20:36:09</td>\n",
       "      <td>\"The Gods Must Be Crazy\" is a beloved South Af...</td>\n",
       "      <td>god must crazy beloved south african movie rel...</td>\n",
       "    </tr>\n",
       "  </tbody>\n",
       "</table>\n",
       "</div>"
      ],
      "text/plain": [
       "   subreddit         author  locked  num_comments  \\\n",
       "0          1  AutoModerator       0            84   \n",
       "1          1  AutoModerator       0             1   \n",
       "2          1  tiikerinsilma       0            26   \n",
       "3          1       Mr_Quinn       0            10   \n",
       "4          1         Erezen       0            14   \n",
       "\n",
       "                                            selftext  \\\n",
       "0  [Previous](/r/AskHistorians/search?q=title%3A\"...   \n",
       "1  [Previous weeks!](/r/AskHistorians/search?sort...   \n",
       "2  I'm asking this partially because the atrociti...   \n",
       "3                                                NaN   \n",
       "4  Moreover, how was the movie received in South ...   \n",
       "\n",
       "                                               title            timestamp  \\\n",
       "0  Sunday Digest | Interesting &amp; Overlooked P...  2019-07-07 14:04:52   \n",
       "1  Short Answers to Simple Questions | July 10, 2019  2019-07-10 14:05:16   \n",
       "2  (WW2) Did Japan have genocidal plans for Asia,...  2019-07-10 09:09:07   \n",
       "3  In 1627 the last aurochs, or wild cow, died in...  2019-07-10 14:00:39   \n",
       "4  \"The Gods Must Be Crazy\" is a beloved South Af...  2019-07-09 20:36:09   \n",
       "\n",
       "                                           full_text  \\\n",
       "0  Sunday Digest | Interesting &amp; Overlooked P...   \n",
       "1  Short Answers to Simple Questions | July 10, 2...   \n",
       "2  (WW2) Did Japan have genocidal plans for Asia,...   \n",
       "3  In 1627 the last aurochs, or wild cow, died in...   \n",
       "4  \"The Gods Must Be Crazy\" is a beloved South Af...   \n",
       "\n",
       "                                     full_text_clean  \n",
       "0  sunday digest interesting amp overlooked post ...  \n",
       "1  short answer simple question july 10 2019 prev...  \n",
       "2  ww2 japan genocidal plan asia war asking parti...  \n",
       "3  1627 last aurochs wild cow died jaktor w fores...  \n",
       "4  god must crazy beloved south african movie rel...  "
      ]
     },
     "execution_count": 3,
     "metadata": {},
     "output_type": "execute_result"
    }
   ],
   "source": [
    "reddit_df.head()"
   ]
  },
  {
   "cell_type": "code",
   "execution_count": 4,
   "metadata": {},
   "outputs": [],
   "source": [
    "X= reddit_df['full_text_clean']\n",
    "y= reddit_df['subreddit']\n",
    "\n",
    "X_train, X_test, y_train, y_test= train_test_split(X, y, stratify=y, random_state= 22)"
   ]
  },
  {
   "cell_type": "code",
   "execution_count": 5,
   "metadata": {},
   "outputs": [],
   "source": [
    "cvec = CountVectorizer(ngram_range=(1,2), stop_words=['askhistorians'])\n",
    "\n",
    "X_train_vec = cvec.fit_transform(X_train) \n",
    "X_test_vec = cvec.transform(X_test)"
   ]
  },
  {
   "cell_type": "code",
   "execution_count": 6,
   "metadata": {},
   "outputs": [],
   "source": [
    "X_train_df = pd.DataFrame(X_train_vec.toarray(), columns = cvec.get_feature_names())\n",
    "X_test_df = pd.DataFrame(X_test_vec.toarray(), columns = cvec.get_feature_names())"
   ]
  },
  {
   "cell_type": "code",
   "execution_count": 7,
   "metadata": {},
   "outputs": [
    {
     "name": "stderr",
     "output_type": "stream",
     "text": [
      "C:\\Users\\flake\\Anaconda3\\envs\\GA_DSI\\lib\\site-packages\\sklearn\\linear_model\\logistic.py:432: FutureWarning: Default solver will be changed to 'lbfgs' in 0.22. Specify a solver to silence this warning.\n",
      "  FutureWarning)\n"
     ]
    },
    {
     "data": {
      "text/plain": [
       "0.998997995991984"
      ]
     },
     "execution_count": 7,
     "metadata": {},
     "output_type": "execute_result"
    }
   ],
   "source": [
    "lr = LogisticRegression()\n",
    "\n",
    "lr.fit(X_train_df, y_train)\n",
    "lr.score(X_train_df, y_train)"
   ]
  },
  {
   "cell_type": "code",
   "execution_count": 8,
   "metadata": {},
   "outputs": [
    {
     "data": {
      "text/plain": [
       "0.9248496993987976"
      ]
     },
     "execution_count": 8,
     "metadata": {},
     "output_type": "execute_result"
    }
   ],
   "source": [
    "lr.score(X_test_df, y_test)"
   ]
  },
  {
   "cell_type": "markdown",
   "metadata": {},
   "source": [
    "**Train Accuracy** = $0.999$\n",
    "\n",
    "**Test Accuracy** = $0.924$"
   ]
  },
  {
   "cell_type": "code",
   "execution_count": 9,
   "metadata": {},
   "outputs": [],
   "source": [
    "y_pred = lr.predict(X_test_vec)"
   ]
  },
  {
   "cell_type": "code",
   "execution_count": 10,
   "metadata": {
    "scrolled": true
   },
   "outputs": [
    {
     "data": {
      "image/png": "[encoded data removed]",
      "text/plain": [
       "<Figure size 432x288 with 1 Axes>"
      ]
     },
     "metadata": {
      "needs_background": "light"
     },
     "output_type": "display_data"
    }
   ],
   "source": [
    "con_mat = confusion_matrix(y_test, y_pred)\n",
    "sns.heatmap(con_mat.T, cmap='Paired', square=True, annot=True, fmt='d', cbar=False,\n",
    "           xticklabels=['r/history', 'r/AskHistorians'],\n",
    "           yticklabels=['r/history', 'r/AskHistorians']\n",
    "           )\n",
    "\n",
    "plt.yticks(rotation=0)\n",
    "plt.xlabel('Actual Subreddit')\n",
    "plt.ylabel('Predicted Subreddit')\n",
    "plt.title('Countvectorized LogReg Confusion Matrix');"
   ]
  },
  {
   "cell_type": "markdown",
   "metadata": {},
   "source": [
    "A easy way of looking at the confusion matrix.  Actual calculations are done below with the .ravel() method but this is more pleasing to the eye.  Note that the matrix is transposed so the x-axis is the actual subreddit and the y-axis is the predicted subreddit."
   ]
  },
  {
   "cell_type": "code",
   "execution_count": 11,
   "metadata": {
    "scrolled": false
   },
   "outputs": [],
   "source": [
    "tn, fp, fn, tp = confusion_matrix(y_test,y_pred).ravel()"
   ]
  },
  {
   "cell_type": "markdown",
   "metadata": {},
   "source": [
    "**Specificity and Sensitivity**"
   ]
  },
  {
   "cell_type": "code",
   "execution_count": 12,
   "metadata": {
    "scrolled": true
   },
   "outputs": [
    {
     "name": "stdout",
     "output_type": "stream",
     "text": [
      "Specificity: 0.91\n",
      "Sensitivity: 0.94\n"
     ]
    }
   ],
   "source": [
    "print(f'Specificity: {round(tn / (fp + tn), 2)}')\n",
    "\n",
    "print(f'Sensitivity: {round(tp /(tp + fn), 2)}')"
   ]
  },
  {
   "cell_type": "markdown",
   "metadata": {},
   "source": [
    "**Specificity:** $0.91$\n",
    "\n",
    "**Sensitivity:** $0.94$\n",
    "    \n",
    "The model predicts the positive class (r/AskHistorians) well, which is what I had hoped for."
   ]
  },
  {
   "cell_type": "markdown",
   "metadata": {},
   "source": [
    "**F1 Score:** $0.926$"
   ]
  },
  {
   "cell_type": "code",
   "execution_count": 13,
   "metadata": {},
   "outputs": [
    {
     "data": {
      "text/plain": [
       "0.926"
      ]
     },
     "execution_count": 13,
     "metadata": {},
     "output_type": "execute_result"
    }
   ],
   "source": [
    "round(f1_score(y_test, y_pred),3)"
   ]
  },
  {
   "cell_type": "code",
   "execution_count": 14,
   "metadata": {},
   "outputs": [
    {
     "data": {
      "text/plain": [
       "0.9051036036036038"
      ]
     },
     "execution_count": 14,
     "metadata": {},
     "output_type": "execute_result"
    }
   ],
   "source": [
    "cross_val_score(lr, X_train_vec, y_train, cv=20, n_jobs=4).mean()"
   ]
  },
  {
   "cell_type": "markdown",
   "metadata": {},
   "source": [
    "**Cross Validation Score ($k=20$):** $0.905$"
   ]
  },
  {
   "cell_type": "code",
   "execution_count": 15,
   "metadata": {},
   "outputs": [],
   "source": [
    "coefs = (np.exp(lr.coef_))[0]\n",
    "         \n",
    "features = cvec.get_feature_names()\n",
    "\n",
    "feat_dict = dict(zip(features, coefs))"
   ]
  },
  {
   "cell_type": "code",
   "execution_count": 16,
   "metadata": {
    "scrolled": false
   },
   "outputs": [
    {
     "data": {
      "text/html": [
       "<div>\n",
       "<style scoped>\n",
       "    .dataframe tbody tr th:only-of-type {\n",
       "        vertical-align: middle;\n",
       "    }\n",
       "\n",
       "    .dataframe tbody tr th {\n",
       "        vertical-align: top;\n",
       "    }\n",
       "\n",
       "    .dataframe thead th {\n",
       "        text-align: right;\n",
       "    }\n",
       "</style>\n",
       "<table border=\"1\" class=\"dataframe\">\n",
       "  <thead>\n",
       "    <tr style=\"text-align: right;\">\n",
       "      <th></th>\n",
       "      <th>Coef</th>\n",
       "    </tr>\n",
       "  </thead>\n",
       "  <tbody>\n",
       "    <tr>\n",
       "      <th>north</th>\n",
       "      <td>2.146758</td>\n",
       "    </tr>\n",
       "    <tr>\n",
       "      <th>heard</th>\n",
       "      <td>1.837305</td>\n",
       "    </tr>\n",
       "    <tr>\n",
       "      <th>use</th>\n",
       "      <td>1.827294</td>\n",
       "    </tr>\n",
       "    <tr>\n",
       "      <th>practice</th>\n",
       "      <td>1.758607</td>\n",
       "    </tr>\n",
       "    <tr>\n",
       "      <th>later</th>\n",
       "      <td>1.746607</td>\n",
       "    </tr>\n",
       "    <tr>\n",
       "      <th>source</th>\n",
       "      <td>1.741636</td>\n",
       "    </tr>\n",
       "    <tr>\n",
       "      <th>woman</th>\n",
       "      <td>1.672080</td>\n",
       "    </tr>\n",
       "    <tr>\n",
       "      <th>support</th>\n",
       "      <td>1.612254</td>\n",
       "    </tr>\n",
       "    <tr>\n",
       "      <th>kind</th>\n",
       "      <td>1.610583</td>\n",
       "    </tr>\n",
       "    <tr>\n",
       "      <th>south</th>\n",
       "      <td>1.596305</td>\n",
       "    </tr>\n",
       "    <tr>\n",
       "      <th>civil</th>\n",
       "      <td>1.581404</td>\n",
       "    </tr>\n",
       "    <tr>\n",
       "      <th>become</th>\n",
       "      <td>1.546161</td>\n",
       "    </tr>\n",
       "    <tr>\n",
       "      <th>tradition</th>\n",
       "      <td>1.537439</td>\n",
       "    </tr>\n",
       "    <tr>\n",
       "      <th>town</th>\n",
       "      <td>1.536626</td>\n",
       "    </tr>\n",
       "    <tr>\n",
       "      <th>among</th>\n",
       "      <td>1.529965</td>\n",
       "    </tr>\n",
       "    <tr>\n",
       "      <th>militate great</th>\n",
       "      <td>1.528917</td>\n",
       "    </tr>\n",
       "    <tr>\n",
       "      <th>rule</th>\n",
       "      <td>1.527883</td>\n",
       "    </tr>\n",
       "    <tr>\n",
       "      <th>claim</th>\n",
       "      <td>1.525392</td>\n",
       "    </tr>\n",
       "    <tr>\n",
       "      <th>debt</th>\n",
       "      <td>1.512027</td>\n",
       "    </tr>\n",
       "    <tr>\n",
       "      <th>copy</th>\n",
       "      <td>1.511083</td>\n",
       "    </tr>\n",
       "  </tbody>\n",
       "</table>\n",
       "</div>"
      ],
      "text/plain": [
       "                    Coef\n",
       "north           2.146758\n",
       "heard           1.837305\n",
       "use             1.827294\n",
       "practice        1.758607\n",
       "later           1.746607\n",
       "source          1.741636\n",
       "woman           1.672080\n",
       "support         1.612254\n",
       "kind            1.610583\n",
       "south           1.596305\n",
       "civil           1.581404\n",
       "become          1.546161\n",
       "tradition       1.537439\n",
       "town            1.536626\n",
       "among           1.529965\n",
       "militate great  1.528917\n",
       "rule            1.527883\n",
       "claim           1.525392\n",
       "debt            1.512027\n",
       "copy            1.511083"
      ]
     },
     "execution_count": 16,
     "metadata": {},
     "output_type": "execute_result"
    }
   ],
   "source": [
    "coef_df = pd.DataFrame.from_dict(feat_dict, orient='index')\n",
    "coef_df.columns = ['Coef']\n",
    "coef_df.sort_values(by='Coef', ascending=False).head(20)"
   ]
  },
  {
   "cell_type": "code",
   "execution_count": 17,
   "metadata": {
    "scrolled": false
   },
   "outputs": [
    {
     "data": {
      "image/png": "[encoded data removed]",
      "text/plain": [
       "<Figure size 432x288 with 1 Axes>"
      ]
     },
     "metadata": {
      "needs_background": "light"
     },
     "output_type": "display_data"
    }
   ],
   "source": [
    "sns.heatmap(coef_df.sort_values(by='Coef', ascending=False).head(20), \n",
    "            cmap='PRGn',\n",
    "            vmin=0,\n",
    "            annot=True,\n",
    "            cbar=False,\n",
    "            xticklabels=False\n",
    "           )\n",
    "plt.title('10 Most Correlated Features for r/AskHistorians')\n",
    "plt.ylabel('Word')\n",
    "plt.xlabel('Coefficient');"
   ]
  },
  {
   "cell_type": "markdown",
   "metadata": {},
   "source": [
    "Visualizing the 10 most correlated features.  "
   ]
  },
  {
   "cell_type": "markdown",
   "metadata": {},
   "source": [
    "### Vader Sentiment Analysis"
   ]
  },
  {
   "cell_type": "code",
   "execution_count": 18,
   "metadata": {},
   "outputs": [],
   "source": [
    "sia = SentimentIntensityAnalyzer()"
   ]
  },
  {
   "cell_type": "code",
   "execution_count": 19,
   "metadata": {},
   "outputs": [],
   "source": [
    "list_of_scores = []\n",
    "\n",
    "for post in X_train:\n",
    "    scores = sia.polarity_scores(post)\n",
    "    list_of_scores.append(scores)"
   ]
  },
  {
   "cell_type": "code",
   "execution_count": 20,
   "metadata": {
    "scrolled": true
   },
   "outputs": [
    {
     "data": {
      "text/html": [
       "<div>\n",
       "<style scoped>\n",
       "    .dataframe tbody tr th:only-of-type {\n",
       "        vertical-align: middle;\n",
       "    }\n",
       "\n",
       "    .dataframe tbody tr th {\n",
       "        vertical-align: top;\n",
       "    }\n",
       "\n",
       "    .dataframe thead th {\n",
       "        text-align: right;\n",
       "    }\n",
       "</style>\n",
       "<table border=\"1\" class=\"dataframe\">\n",
       "  <thead>\n",
       "    <tr style=\"text-align: right;\">\n",
       "      <th></th>\n",
       "      <th>compound</th>\n",
       "      <th>neg</th>\n",
       "      <th>neu</th>\n",
       "      <th>pos</th>\n",
       "    </tr>\n",
       "  </thead>\n",
       "  <tbody>\n",
       "    <tr>\n",
       "      <th>0</th>\n",
       "      <td>0.0000</td>\n",
       "      <td>0.000</td>\n",
       "      <td>1.000</td>\n",
       "      <td>0.000</td>\n",
       "    </tr>\n",
       "    <tr>\n",
       "      <th>1</th>\n",
       "      <td>-0.9607</td>\n",
       "      <td>0.378</td>\n",
       "      <td>0.569</td>\n",
       "      <td>0.054</td>\n",
       "    </tr>\n",
       "    <tr>\n",
       "      <th>2</th>\n",
       "      <td>0.9349</td>\n",
       "      <td>0.083</td>\n",
       "      <td>0.565</td>\n",
       "      <td>0.352</td>\n",
       "    </tr>\n",
       "    <tr>\n",
       "      <th>3</th>\n",
       "      <td>-0.1280</td>\n",
       "      <td>0.333</td>\n",
       "      <td>0.444</td>\n",
       "      <td>0.222</td>\n",
       "    </tr>\n",
       "    <tr>\n",
       "      <th>4</th>\n",
       "      <td>0.9682</td>\n",
       "      <td>0.000</td>\n",
       "      <td>0.680</td>\n",
       "      <td>0.320</td>\n",
       "    </tr>\n",
       "    <tr>\n",
       "      <th>5</th>\n",
       "      <td>-0.9643</td>\n",
       "      <td>0.257</td>\n",
       "      <td>0.620</td>\n",
       "      <td>0.123</td>\n",
       "    </tr>\n",
       "    <tr>\n",
       "      <th>6</th>\n",
       "      <td>-0.1280</td>\n",
       "      <td>0.158</td>\n",
       "      <td>0.672</td>\n",
       "      <td>0.171</td>\n",
       "    </tr>\n",
       "    <tr>\n",
       "      <th>7</th>\n",
       "      <td>0.8516</td>\n",
       "      <td>0.000</td>\n",
       "      <td>0.660</td>\n",
       "      <td>0.340</td>\n",
       "    </tr>\n",
       "    <tr>\n",
       "      <th>8</th>\n",
       "      <td>0.9403</td>\n",
       "      <td>0.061</td>\n",
       "      <td>0.467</td>\n",
       "      <td>0.472</td>\n",
       "    </tr>\n",
       "    <tr>\n",
       "      <th>9</th>\n",
       "      <td>0.4767</td>\n",
       "      <td>0.167</td>\n",
       "      <td>0.602</td>\n",
       "      <td>0.231</td>\n",
       "    </tr>\n",
       "    <tr>\n",
       "      <th>10</th>\n",
       "      <td>0.2500</td>\n",
       "      <td>0.235</td>\n",
       "      <td>0.447</td>\n",
       "      <td>0.318</td>\n",
       "    </tr>\n",
       "    <tr>\n",
       "      <th>11</th>\n",
       "      <td>-0.9052</td>\n",
       "      <td>0.300</td>\n",
       "      <td>0.543</td>\n",
       "      <td>0.157</td>\n",
       "    </tr>\n",
       "    <tr>\n",
       "      <th>12</th>\n",
       "      <td>0.9360</td>\n",
       "      <td>0.061</td>\n",
       "      <td>0.611</td>\n",
       "      <td>0.328</td>\n",
       "    </tr>\n",
       "    <tr>\n",
       "      <th>13</th>\n",
       "      <td>-0.4019</td>\n",
       "      <td>0.261</td>\n",
       "      <td>0.528</td>\n",
       "      <td>0.211</td>\n",
       "    </tr>\n",
       "    <tr>\n",
       "      <th>14</th>\n",
       "      <td>0.3182</td>\n",
       "      <td>0.000</td>\n",
       "      <td>0.796</td>\n",
       "      <td>0.204</td>\n",
       "    </tr>\n",
       "    <tr>\n",
       "      <th>15</th>\n",
       "      <td>0.0000</td>\n",
       "      <td>0.036</td>\n",
       "      <td>0.929</td>\n",
       "      <td>0.036</td>\n",
       "    </tr>\n",
       "    <tr>\n",
       "      <th>16</th>\n",
       "      <td>-0.8360</td>\n",
       "      <td>0.252</td>\n",
       "      <td>0.680</td>\n",
       "      <td>0.068</td>\n",
       "    </tr>\n",
       "    <tr>\n",
       "      <th>17</th>\n",
       "      <td>-0.5267</td>\n",
       "      <td>0.186</td>\n",
       "      <td>0.641</td>\n",
       "      <td>0.172</td>\n",
       "    </tr>\n",
       "    <tr>\n",
       "      <th>18</th>\n",
       "      <td>0.9382</td>\n",
       "      <td>0.019</td>\n",
       "      <td>0.775</td>\n",
       "      <td>0.205</td>\n",
       "    </tr>\n",
       "    <tr>\n",
       "      <th>19</th>\n",
       "      <td>0.6705</td>\n",
       "      <td>0.048</td>\n",
       "      <td>0.781</td>\n",
       "      <td>0.171</td>\n",
       "    </tr>\n",
       "    <tr>\n",
       "      <th>20</th>\n",
       "      <td>-0.9565</td>\n",
       "      <td>0.114</td>\n",
       "      <td>0.825</td>\n",
       "      <td>0.061</td>\n",
       "    </tr>\n",
       "    <tr>\n",
       "      <th>21</th>\n",
       "      <td>-0.6369</td>\n",
       "      <td>0.217</td>\n",
       "      <td>0.597</td>\n",
       "      <td>0.186</td>\n",
       "    </tr>\n",
       "    <tr>\n",
       "      <th>22</th>\n",
       "      <td>-0.4423</td>\n",
       "      <td>0.141</td>\n",
       "      <td>0.732</td>\n",
       "      <td>0.128</td>\n",
       "    </tr>\n",
       "    <tr>\n",
       "      <th>23</th>\n",
       "      <td>0.0000</td>\n",
       "      <td>0.000</td>\n",
       "      <td>1.000</td>\n",
       "      <td>0.000</td>\n",
       "    </tr>\n",
       "    <tr>\n",
       "      <th>24</th>\n",
       "      <td>0.1531</td>\n",
       "      <td>0.169</td>\n",
       "      <td>0.651</td>\n",
       "      <td>0.179</td>\n",
       "    </tr>\n",
       "    <tr>\n",
       "      <th>25</th>\n",
       "      <td>0.7579</td>\n",
       "      <td>0.050</td>\n",
       "      <td>0.774</td>\n",
       "      <td>0.176</td>\n",
       "    </tr>\n",
       "    <tr>\n",
       "      <th>26</th>\n",
       "      <td>0.4019</td>\n",
       "      <td>0.110</td>\n",
       "      <td>0.676</td>\n",
       "      <td>0.214</td>\n",
       "    </tr>\n",
       "    <tr>\n",
       "      <th>27</th>\n",
       "      <td>0.9711</td>\n",
       "      <td>0.033</td>\n",
       "      <td>0.729</td>\n",
       "      <td>0.238</td>\n",
       "    </tr>\n",
       "    <tr>\n",
       "      <th>28</th>\n",
       "      <td>0.9493</td>\n",
       "      <td>0.000</td>\n",
       "      <td>0.582</td>\n",
       "      <td>0.418</td>\n",
       "    </tr>\n",
       "    <tr>\n",
       "      <th>29</th>\n",
       "      <td>0.0000</td>\n",
       "      <td>0.000</td>\n",
       "      <td>1.000</td>\n",
       "      <td>0.000</td>\n",
       "    </tr>\n",
       "    <tr>\n",
       "      <th>...</th>\n",
       "      <td>...</td>\n",
       "      <td>...</td>\n",
       "      <td>...</td>\n",
       "      <td>...</td>\n",
       "    </tr>\n",
       "    <tr>\n",
       "      <th>2964</th>\n",
       "      <td>0.4215</td>\n",
       "      <td>0.000</td>\n",
       "      <td>0.714</td>\n",
       "      <td>0.286</td>\n",
       "    </tr>\n",
       "    <tr>\n",
       "      <th>2965</th>\n",
       "      <td>-0.5994</td>\n",
       "      <td>0.316</td>\n",
       "      <td>0.468</td>\n",
       "      <td>0.216</td>\n",
       "    </tr>\n",
       "    <tr>\n",
       "      <th>2966</th>\n",
       "      <td>-0.3818</td>\n",
       "      <td>0.271</td>\n",
       "      <td>0.729</td>\n",
       "      <td>0.000</td>\n",
       "    </tr>\n",
       "    <tr>\n",
       "      <th>2967</th>\n",
       "      <td>0.8111</td>\n",
       "      <td>0.000</td>\n",
       "      <td>0.757</td>\n",
       "      <td>0.243</td>\n",
       "    </tr>\n",
       "    <tr>\n",
       "      <th>2968</th>\n",
       "      <td>-0.2732</td>\n",
       "      <td>0.143</td>\n",
       "      <td>0.779</td>\n",
       "      <td>0.078</td>\n",
       "    </tr>\n",
       "    <tr>\n",
       "      <th>2969</th>\n",
       "      <td>0.8074</td>\n",
       "      <td>0.000</td>\n",
       "      <td>0.720</td>\n",
       "      <td>0.280</td>\n",
       "    </tr>\n",
       "    <tr>\n",
       "      <th>2970</th>\n",
       "      <td>-0.7351</td>\n",
       "      <td>0.162</td>\n",
       "      <td>0.838</td>\n",
       "      <td>0.000</td>\n",
       "    </tr>\n",
       "    <tr>\n",
       "      <th>2971</th>\n",
       "      <td>0.0772</td>\n",
       "      <td>0.091</td>\n",
       "      <td>0.807</td>\n",
       "      <td>0.102</td>\n",
       "    </tr>\n",
       "    <tr>\n",
       "      <th>2972</th>\n",
       "      <td>-0.3612</td>\n",
       "      <td>0.110</td>\n",
       "      <td>0.822</td>\n",
       "      <td>0.068</td>\n",
       "    </tr>\n",
       "    <tr>\n",
       "      <th>2973</th>\n",
       "      <td>0.8689</td>\n",
       "      <td>0.093</td>\n",
       "      <td>0.737</td>\n",
       "      <td>0.170</td>\n",
       "    </tr>\n",
       "    <tr>\n",
       "      <th>2974</th>\n",
       "      <td>-0.9360</td>\n",
       "      <td>0.417</td>\n",
       "      <td>0.583</td>\n",
       "      <td>0.000</td>\n",
       "    </tr>\n",
       "    <tr>\n",
       "      <th>2975</th>\n",
       "      <td>0.8107</td>\n",
       "      <td>0.055</td>\n",
       "      <td>0.777</td>\n",
       "      <td>0.169</td>\n",
       "    </tr>\n",
       "    <tr>\n",
       "      <th>2976</th>\n",
       "      <td>-0.5106</td>\n",
       "      <td>0.236</td>\n",
       "      <td>0.560</td>\n",
       "      <td>0.204</td>\n",
       "    </tr>\n",
       "    <tr>\n",
       "      <th>2977</th>\n",
       "      <td>0.4019</td>\n",
       "      <td>0.000</td>\n",
       "      <td>0.950</td>\n",
       "      <td>0.050</td>\n",
       "    </tr>\n",
       "    <tr>\n",
       "      <th>2978</th>\n",
       "      <td>-0.7579</td>\n",
       "      <td>0.198</td>\n",
       "      <td>0.669</td>\n",
       "      <td>0.134</td>\n",
       "    </tr>\n",
       "    <tr>\n",
       "      <th>2979</th>\n",
       "      <td>0.7096</td>\n",
       "      <td>0.039</td>\n",
       "      <td>0.728</td>\n",
       "      <td>0.232</td>\n",
       "    </tr>\n",
       "    <tr>\n",
       "      <th>2980</th>\n",
       "      <td>-0.7184</td>\n",
       "      <td>0.283</td>\n",
       "      <td>0.531</td>\n",
       "      <td>0.186</td>\n",
       "    </tr>\n",
       "    <tr>\n",
       "      <th>2981</th>\n",
       "      <td>0.8789</td>\n",
       "      <td>0.114</td>\n",
       "      <td>0.645</td>\n",
       "      <td>0.241</td>\n",
       "    </tr>\n",
       "    <tr>\n",
       "      <th>2982</th>\n",
       "      <td>0.8316</td>\n",
       "      <td>0.000</td>\n",
       "      <td>0.645</td>\n",
       "      <td>0.355</td>\n",
       "    </tr>\n",
       "    <tr>\n",
       "      <th>2983</th>\n",
       "      <td>0.9118</td>\n",
       "      <td>0.000</td>\n",
       "      <td>0.779</td>\n",
       "      <td>0.221</td>\n",
       "    </tr>\n",
       "    <tr>\n",
       "      <th>2984</th>\n",
       "      <td>-0.8402</td>\n",
       "      <td>0.265</td>\n",
       "      <td>0.596</td>\n",
       "      <td>0.139</td>\n",
       "    </tr>\n",
       "    <tr>\n",
       "      <th>2985</th>\n",
       "      <td>0.4019</td>\n",
       "      <td>0.059</td>\n",
       "      <td>0.820</td>\n",
       "      <td>0.122</td>\n",
       "    </tr>\n",
       "    <tr>\n",
       "      <th>2986</th>\n",
       "      <td>-0.5994</td>\n",
       "      <td>0.565</td>\n",
       "      <td>0.435</td>\n",
       "      <td>0.000</td>\n",
       "    </tr>\n",
       "    <tr>\n",
       "      <th>2987</th>\n",
       "      <td>-0.8442</td>\n",
       "      <td>0.380</td>\n",
       "      <td>0.523</td>\n",
       "      <td>0.098</td>\n",
       "    </tr>\n",
       "    <tr>\n",
       "      <th>2988</th>\n",
       "      <td>-0.9879</td>\n",
       "      <td>0.492</td>\n",
       "      <td>0.421</td>\n",
       "      <td>0.087</td>\n",
       "    </tr>\n",
       "    <tr>\n",
       "      <th>2989</th>\n",
       "      <td>-0.9403</td>\n",
       "      <td>0.399</td>\n",
       "      <td>0.467</td>\n",
       "      <td>0.135</td>\n",
       "    </tr>\n",
       "    <tr>\n",
       "      <th>2990</th>\n",
       "      <td>-0.5790</td>\n",
       "      <td>0.133</td>\n",
       "      <td>0.739</td>\n",
       "      <td>0.128</td>\n",
       "    </tr>\n",
       "    <tr>\n",
       "      <th>2991</th>\n",
       "      <td>0.0000</td>\n",
       "      <td>0.127</td>\n",
       "      <td>0.731</td>\n",
       "      <td>0.143</td>\n",
       "    </tr>\n",
       "    <tr>\n",
       "      <th>2992</th>\n",
       "      <td>0.6369</td>\n",
       "      <td>0.000</td>\n",
       "      <td>0.776</td>\n",
       "      <td>0.224</td>\n",
       "    </tr>\n",
       "    <tr>\n",
       "      <th>2993</th>\n",
       "      <td>0.4939</td>\n",
       "      <td>0.138</td>\n",
       "      <td>0.599</td>\n",
       "      <td>0.263</td>\n",
       "    </tr>\n",
       "  </tbody>\n",
       "</table>\n",
       "<p>2994 rows × 4 columns</p>\n",
       "</div>"
      ],
      "text/plain": [
       "      compound    neg    neu    pos\n",
       "0       0.0000  0.000  1.000  0.000\n",
       "1      -0.9607  0.378  0.569  0.054\n",
       "2       0.9349  0.083  0.565  0.352\n",
       "3      -0.1280  0.333  0.444  0.222\n",
       "4       0.9682  0.000  0.680  0.320\n",
       "5      -0.9643  0.257  0.620  0.123\n",
       "6      -0.1280  0.158  0.672  0.171\n",
       "7       0.8516  0.000  0.660  0.340\n",
       "8       0.9403  0.061  0.467  0.472\n",
       "9       0.4767  0.167  0.602  0.231\n",
       "10      0.2500  0.235  0.447  0.318\n",
       "11     -0.9052  0.300  0.543  0.157\n",
       "12      0.9360  0.061  0.611  0.328\n",
       "13     -0.4019  0.261  0.528  0.211\n",
       "14      0.3182  0.000  0.796  0.204\n",
       "15      0.0000  0.036  0.929  0.036\n",
       "16     -0.8360  0.252  0.680  0.068\n",
       "17     -0.5267  0.186  0.641  0.172\n",
       "18      0.9382  0.019  0.775  0.205\n",
       "19      0.6705  0.048  0.781  0.171\n",
       "20     -0.9565  0.114  0.825  0.061\n",
       "21     -0.6369  0.217  0.597  0.186\n",
       "22     -0.4423  0.141  0.732  0.128\n",
       "23      0.0000  0.000  1.000  0.000\n",
       "24      0.1531  0.169  0.651  0.179\n",
       "25      0.7579  0.050  0.774  0.176\n",
       "26      0.4019  0.110  0.676  0.214\n",
       "27      0.9711  0.033  0.729  0.238\n",
       "28      0.9493  0.000  0.582  0.418\n",
       "29      0.0000  0.000  1.000  0.000\n",
       "...        ...    ...    ...    ...\n",
       "2964    0.4215  0.000  0.714  0.286\n",
       "2965   -0.5994  0.316  0.468  0.216\n",
       "2966   -0.3818  0.271  0.729  0.000\n",
       "2967    0.8111  0.000  0.757  0.243\n",
       "2968   -0.2732  0.143  0.779  0.078\n",
       "2969    0.8074  0.000  0.720  0.280\n",
       "2970   -0.7351  0.162  0.838  0.000\n",
       "2971    0.0772  0.091  0.807  0.102\n",
       "2972   -0.3612  0.110  0.822  0.068\n",
       "2973    0.8689  0.093  0.737  0.170\n",
       "2974   -0.9360  0.417  0.583  0.000\n",
       "2975    0.8107  0.055  0.777  0.169\n",
       "2976   -0.5106  0.236  0.560  0.204\n",
       "2977    0.4019  0.000  0.950  0.050\n",
       "2978   -0.7579  0.198  0.669  0.134\n",
       "2979    0.7096  0.039  0.728  0.232\n",
       "2980   -0.7184  0.283  0.531  0.186\n",
       "2981    0.8789  0.114  0.645  0.241\n",
       "2982    0.8316  0.000  0.645  0.355\n",
       "2983    0.9118  0.000  0.779  0.221\n",
       "2984   -0.8402  0.265  0.596  0.139\n",
       "2985    0.4019  0.059  0.820  0.122\n",
       "2986   -0.5994  0.565  0.435  0.000\n",
       "2987   -0.8442  0.380  0.523  0.098\n",
       "2988   -0.9879  0.492  0.421  0.087\n",
       "2989   -0.9403  0.399  0.467  0.135\n",
       "2990   -0.5790  0.133  0.739  0.128\n",
       "2991    0.0000  0.127  0.731  0.143\n",
       "2992    0.6369  0.000  0.776  0.224\n",
       "2993    0.4939  0.138  0.599  0.263\n",
       "\n",
       "[2994 rows x 4 columns]"
      ]
     },
     "execution_count": 20,
     "metadata": {},
     "output_type": "execute_result"
    }
   ],
   "source": [
    "train_scores_df= pd.DataFrame(list_of_scores)\n",
    "train_scores_df"
   ]
  },
  {
   "cell_type": "markdown",
   "metadata": {},
   "source": [
    "#### Overall Sentiment Analysis scores:\n",
    "\n",
    "| Score| mean|\n",
    "|---------|---------| \n",
    "|Compound | 0.147|     \n",
    "|Negative | 0.108|\n",
    "|Neutral  | 0.747|\n",
    "|Positive  | 0.145|"
   ]
  },
  {
   "cell_type": "code",
   "execution_count": 21,
   "metadata": {},
   "outputs": [],
   "source": [
    "X_train_df = pd.concat(objs=[X_train_df, train_scores_df], axis=1)"
   ]
  },
  {
   "cell_type": "code",
   "execution_count": 22,
   "metadata": {},
   "outputs": [],
   "source": [
    "list_of_scores = []\n",
    "\n",
    "for post in X_test:\n",
    "    scores = sia.polarity_scores(post)\n",
    "    list_of_scores.append(scores)\n",
    "    \n",
    "test_scores_df= pd.DataFrame(list_of_scores)\n",
    "\n",
    "X_test_df = pd.concat(objs=[X_test_df, test_scores_df], axis=1)"
   ]
  },
  {
   "cell_type": "code",
   "execution_count": 23,
   "metadata": {},
   "outputs": [
    {
     "name": "stderr",
     "output_type": "stream",
     "text": [
      "C:\\Users\\flake\\Anaconda3\\envs\\GA_DSI\\lib\\site-packages\\sklearn\\linear_model\\logistic.py:432: FutureWarning: Default solver will be changed to 'lbfgs' in 0.22. Specify a solver to silence this warning.\n",
      "  FutureWarning)\n"
     ]
    },
    {
     "data": {
      "text/plain": [
       "0.998997995991984"
      ]
     },
     "execution_count": 23,
     "metadata": {},
     "output_type": "execute_result"
    }
   ],
   "source": [
    "lordVader= LogisticRegression()\n",
    "\n",
    "lordVader.fit(X_train_df, y_train)\n",
    "lordVader.score(X_train_df, y_train)"
   ]
  },
  {
   "cell_type": "code",
   "execution_count": 24,
   "metadata": {},
   "outputs": [
    {
     "data": {
      "text/plain": [
       "0.9228456913827655"
      ]
     },
     "execution_count": 24,
     "metadata": {},
     "output_type": "execute_result"
    }
   ],
   "source": [
    "lordVader.score(X_test_df, y_test)"
   ]
  },
  {
   "cell_type": "markdown",
   "metadata": {},
   "source": [
    "**Accuracy:**\n",
    "\n",
    "Train: $0.999$\n",
    "\n",
    "Test: $0.937$"
   ]
  },
  {
   "cell_type": "code",
   "execution_count": 25,
   "metadata": {},
   "outputs": [],
   "source": [
    "y_pred_vader = lordVader.predict(X_test_df)"
   ]
  },
  {
   "cell_type": "code",
   "execution_count": 26,
   "metadata": {},
   "outputs": [],
   "source": [
    "tn_lv, fp_lv, fn_lv, tp_lv = confusion_matrix(y_test,y_pred_vader).ravel()"
   ]
  },
  {
   "cell_type": "code",
   "execution_count": 27,
   "metadata": {
    "scrolled": true
   },
   "outputs": [
    {
     "name": "stdout",
     "output_type": "stream",
     "text": [
      "Specificity: 0.91\n",
      "Sensitivity: 0.94\n"
     ]
    }
   ],
   "source": [
    "print(f'Specificity: {round(tn_lv / (fp_lv + tn_lv), 2)}')\n",
    "\n",
    "print(f'Sensitivity: {round(tp_lv /(tp_lv + fn_lv), 2)}')"
   ]
  },
  {
   "cell_type": "markdown",
   "metadata": {},
   "source": [
    "**Specificity:** 0.92\n",
    "\n",
    "**Sensitivity:** 0.96\n",
    "    "
   ]
  },
  {
   "cell_type": "code",
   "execution_count": 28,
   "metadata": {},
   "outputs": [
    {
     "data": {
      "text/plain": [
       "0.924"
      ]
     },
     "execution_count": 28,
     "metadata": {},
     "output_type": "execute_result"
    }
   ],
   "source": [
    "# F1 score\n",
    "\n",
    "round(f1_score(y_test, y_pred_vader),3)"
   ]
  },
  {
   "cell_type": "markdown",
   "metadata": {},
   "source": [
    "**F1 score:** $0.938$"
   ]
  },
  {
   "cell_type": "markdown",
   "metadata": {},
   "source": [
    "Adding vader sentiment analysis did not improve model at all which makes sense considering most posts/selftexts aren't going to slant either way in academia focused subs.  \n"
   ]
  },
  {
   "cell_type": "code",
   "execution_count": 29,
   "metadata": {},
   "outputs": [
    {
     "data": {
      "text/plain": [
       "compound    0.148514\n",
       "neg         0.107773\n",
       "neu         0.748094\n",
       "pos         0.144141\n",
       "dtype: float64"
      ]
     },
     "execution_count": 29,
     "metadata": {},
     "output_type": "execute_result"
    }
   ],
   "source": [
    "train_scores_df.mean()"
   ]
  },
  {
   "cell_type": "code",
   "execution_count": 30,
   "metadata": {},
   "outputs": [
    {
     "data": {
      "text/plain": [
       "Text(0.5, 1.0, 'Neutral Sentiment Score')"
      ]
     },
     "execution_count": 30,
     "metadata": {},
     "output_type": "execute_result"
    },
    {
     "data": {
      "image/png": "[encoded data removed]",
      "text/plain": [
       "<Figure size 432x288 with 1 Axes>"
      ]
     },
     "metadata": {},
     "output_type": "display_data"
    }
   ],
   "source": [
    "style.use('fivethirtyeight')\n",
    "sns.distplot(train_scores_df['neu'], color='orange', kde=False);\n",
    "plt.ylabel('Number of Posts')\n",
    "plt.xlabel('Score')\n",
    "plt.title('Neutral Sentiment Score')"
   ]
  },
  {
   "cell_type": "code",
   "execution_count": 33,
   "metadata": {
    "scrolled": true
   },
   "outputs": [
    {
     "data": {
      "text/plain": [
       "Text(0.5, 1.0, 'Postive Sentiment Score')"
      ]
     },
     "execution_count": 33,
     "metadata": {},
     "output_type": "execute_result"
    },
    {
     "data": {
      "image/png": "[encoded data removed]",
      "text/plain": [
       "<Figure size 432x288 with 1 Axes>"
      ]
     },
     "metadata": {},
     "output_type": "display_data"
    }
   ],
   "source": [
    "style.use('fivethirtyeight')\n",
    "sns.distplot(train_scores_df['pos'], color='darkblue', kde=False);\n",
    "plt.ylabel('Number of Posts')\n",
    "plt.xlabel('Score')\n",
    "plt.title('Negative Sentiment Score')"
   ]
  },
  {
   "cell_type": "code",
   "execution_count": 34,
   "metadata": {},
   "outputs": [
    {
     "data": {
      "text/plain": [
       "Text(0.5, 1.0, 'Negative Sentiment Score')"
      ]
     },
     "execution_count": 34,
     "metadata": {},
     "output_type": "execute_result"
    },
    {
     "data": {
      "image/png": "[encoded data removed]",
      "text/plain": [
       "<Figure size 432x288 with 1 Axes>"
      ]
     },
     "metadata": {},
     "output_type": "display_data"
    }
   ],
   "source": [
    "style.use('fivethirtyeight')\n",
    "sns.distplot(train_scores_df['neg'], color='darkgreen', kde=False);\n",
    "plt.ylabel('Number of Posts')\n",
    "plt.xlabel('Score')\n",
    "plt.title('Negative Sentiment Score')"
   ]
  }
 ],
 "metadata": {
  "kernelspec": {
   "display_name": "Python 3",
   "language": "python",
   "name": "python3"
  },
  "language_info": {
   "codemirror_mode": {
    "name": "ipython",
    "version": 3
   },
   "file_extension": ".py",
   "mimetype": "text/x-python",
   "name": "python",
   "nbconvert_exporter": "python",
   "pygments_lexer": "ipython3",
   "version": "3.7.3"
  },
  "pycharm": {
   "stem_cell": {
    "cell_type": "raw",
    "metadata": {
     "collapsed": false
    },
    "source": []
   }
  }
 },
 "nbformat": 4,
 "nbformat_minor": 2
}
